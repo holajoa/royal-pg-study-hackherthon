{
 "metadata": {
  "language_info": {
   "codemirror_mode": {
    "name": "ipython",
    "version": 3
   },
   "file_extension": ".py",
   "mimetype": "text/x-python",
   "name": "python",
   "nbconvert_exporter": "python",
   "pygments_lexer": "ipython3",
   "version": "3.8.8-final"
  },
  "orig_nbformat": 2,
  "kernelspec": {
   "name": "python3",
   "display_name": "Python 3",
   "language": "python"
  }
 },
 "nbformat": 4,
 "nbformat_minor": 2,
 "cells": [
  {
   "cell_type": "code",
   "execution_count": 3,
   "metadata": {},
   "outputs": [
    {
     "output_type": "error",
     "ename": "ValueError",
     "evalue": "J is not a valid answer, please return Y/N.",
     "traceback": [
      "\u001b[1;31m---------------------------------------------------------------------------\u001b[0m",
      "\u001b[1;31mValueError\u001b[0m                                Traceback (most recent call last)",
      "\u001b[1;32m<ipython-input-3-9226a93213f5>\u001b[0m in \u001b[0;36m<module>\u001b[1;34m\u001b[0m\n\u001b[0;32m     29\u001b[0m \u001b[0mfdbk\u001b[0m \u001b[1;33m=\u001b[0m \u001b[0minput\u001b[0m\u001b[1;33m(\u001b[0m\u001b[1;34m'Welcome! Do you have a rubbish in mind now? (Y)'\u001b[0m\u001b[1;33m)\u001b[0m\u001b[1;33m\u001b[0m\u001b[1;33m\u001b[0m\u001b[0m\n\u001b[0;32m     30\u001b[0m \u001b[1;32mif\u001b[0m \u001b[0mfdbk\u001b[0m \u001b[1;33m==\u001b[0m \u001b[1;34m'Y'\u001b[0m\u001b[1;33m:\u001b[0m\u001b[1;33m\u001b[0m\u001b[1;33m\u001b[0m\u001b[0m\n\u001b[1;32m---> 31\u001b[1;33m     \u001b[0mstart\u001b[0m\u001b[1;33m(\u001b[0m\u001b[1;33m)\u001b[0m\u001b[1;33m\u001b[0m\u001b[1;33m\u001b[0m\u001b[0m\n\u001b[0m\u001b[0;32m     32\u001b[0m \u001b[1;32melse\u001b[0m\u001b[1;33m:\u001b[0m\u001b[1;33m\u001b[0m\u001b[1;33m\u001b[0m\u001b[0m\n\u001b[0;32m     33\u001b[0m     \u001b[0mprint\u001b[0m\u001b[1;33m(\u001b[0m\u001b[1;34m'Bye-bye!'\u001b[0m\u001b[1;33m)\u001b[0m\u001b[1;33m\u001b[0m\u001b[1;33m\u001b[0m\u001b[0m\n",
      "\u001b[1;32m<ipython-input-3-9226a93213f5>\u001b[0m in \u001b[0;36mstart\u001b[1;34m()\u001b[0m\n\u001b[0;32m     22\u001b[0m             \u001b[1;32mcontinue\u001b[0m\u001b[1;33m\u001b[0m\u001b[1;33m\u001b[0m\u001b[0m\n\u001b[0;32m     23\u001b[0m         \u001b[1;32melse\u001b[0m\u001b[1;33m:\u001b[0m\u001b[1;33m\u001b[0m\u001b[1;33m\u001b[0m\u001b[0m\n\u001b[1;32m---> 24\u001b[1;33m             raise ValueError(\n\u001b[0m\u001b[0;32m     25\u001b[0m                         \u001b[1;34mf'{a} is not a valid answer, please return Y/N.'\u001b[0m\u001b[1;33m\u001b[0m\u001b[1;33m\u001b[0m\u001b[0m\n\u001b[0;32m     26\u001b[0m                     )\n",
      "\u001b[1;31mValueError\u001b[0m: J is not a valid answer, please return Y/N."
     ]
    }
   ],
   "source": [
    "# list of categories\n",
    "\n",
    "cats = ['Hazardous waste',\n",
    "        'Recyclable waste',\n",
    "        'Food waste',\n",
    "        'Residual waste']\n",
    "\n",
    "# length of questions\n",
    "questions = ['Is it a Hazardous waste? (Y/N)',\n",
    "             'Is it Recyclable? (Y/N)',\n",
    "             'Is it a Food waste? (Y/N)']\n",
    "\n",
    "# start the game\n",
    "def start():\n",
    "    for i in range(3):\n",
    "        a = input(questions[i])\n",
    "\n",
    "        if a == 'Y':\n",
    "            print(f'The rubbish you are thinking is a {cats[i]}.')\n",
    "            break\n",
    "        elif a == 'N':\n",
    "            continue    \n",
    "        else:\n",
    "            raise ValueError(\n",
    "                        f'{a} is not a valid answer, please return Y/N.'\n",
    "                    )\n",
    "    print ('The rubbish you are thinking is a Residual waste.')\n",
    "\n",
    "fdbk = input('Welcome! Do you have a rubbish in mind now? (Y)')\n",
    "if fdbk == 'Y':\n",
    "    start()\n",
    "else:\n",
    "    print('Bye-bye!')\n",
    "\n",
    "\n"
   ]
  },
  {
   "cell_type": "code",
   "execution_count": null,
   "metadata": {},
   "outputs": [],
   "source": []
  }
 ]
}